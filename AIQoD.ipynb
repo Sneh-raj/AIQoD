{
 "cells": [
  {
   "cell_type": "code",
   "execution_count": 2,
   "id": "3f183f93-dc0b-4f8e-ad52-c313372be0e3",
   "metadata": {},
   "outputs": [
    {
     "ename": "NameError",
     "evalue": "name 'collection' is not defined",
     "output_type": "error",
     "traceback": [
      "\u001b[1;31m---------------------------------------------------------------------------\u001b[0m",
      "\u001b[1;31mNameError\u001b[0m                                 Traceback (most recent call last)",
      "Cell \u001b[1;32mIn[2], line 2\u001b[0m\n\u001b[0;32m      1\u001b[0m \u001b[38;5;66;03m# Insert CSV data into MongoDB\u001b[39;00m\n\u001b[1;32m----> 2\u001b[0m \u001b[43mcollection\u001b[49m\u001b[38;5;241m.\u001b[39minsert_many(data_dict)\n\u001b[0;32m      8\u001b[0m \u001b[38;5;66;03m# Step 4: Retrieve data from MongoDB\u001b[39;00m\n\u001b[0;32m      9\u001b[0m query \u001b[38;5;241m=\u001b[39m { column_name: { \u001b[38;5;124m\"\u001b[39m\u001b[38;5;124m$exists\u001b[39m\u001b[38;5;124m\"\u001b[39m: \u001b[38;5;28;01mTrue\u001b[39;00m } }\n",
      "\u001b[1;31mNameError\u001b[0m: name 'collection' is not defined"
     ]
    }
   ],
   "source": [
    "\n",
    "\n",
    "# Insert CSV data into MongoDB\n",
    "collection.insert_many(data_dict)\n",
    "\n",
    "\n",
    "\n",
    "\n",
    "\n",
    "# Step 4: Retrieve data from MongoDB\n",
    "query = { column_name: { \"$exists\": True } }\n",
    "results = collection.find(query)\n",
    "\n",
    "# Step 5: Display or save results\n",
    "df = pd.DataFrame(list(results))\n",
    "df.to_csv('retrieved_data.csv', index=False)\n",
    "print(\"Data saved to retrieved_data.csv\")\n"
   ]
  },
  {
   "cell_type": "code",
   "execution_count": 1,
   "id": "09b7151e-56c2-488b-b211-e2a516dc7d7a",
   "metadata": {},
   "outputs": [
    {
     "name": "stdout",
     "output_type": "stream",
     "text": [
      "Requirement already satisfied: transformers in c:\\users\\snehr\\appdata\\local\\programs\\python\\python311\\lib\\site-packages (4.44.2)\n",
      "Requirement already satisfied: filelock in c:\\users\\snehr\\appdata\\local\\programs\\python\\python311\\lib\\site-packages (from transformers) (3.13.1)\n",
      "Requirement already satisfied: huggingface-hub<1.0,>=0.23.2 in c:\\users\\snehr\\appdata\\local\\programs\\python\\python311\\lib\\site-packages (from transformers) (0.24.6)\n",
      "Requirement already satisfied: numpy>=1.17 in c:\\users\\snehr\\appdata\\local\\programs\\python\\python311\\lib\\site-packages (from transformers) (1.26.4)\n",
      "Requirement already satisfied: packaging>=20.0 in c:\\users\\snehr\\appdata\\local\\programs\\python\\python311\\lib\\site-packages (from transformers) (24.0)\n",
      "Requirement already satisfied: pyyaml>=5.1 in c:\\users\\snehr\\appdata\\local\\programs\\python\\python311\\lib\\site-packages (from transformers) (6.0.1)\n",
      "Requirement already satisfied: regex!=2019.12.17 in c:\\users\\snehr\\appdata\\local\\programs\\python\\python311\\lib\\site-packages (from transformers) (2024.7.24)\n",
      "Requirement already satisfied: requests in c:\\users\\snehr\\appdata\\local\\programs\\python\\python311\\lib\\site-packages (from transformers) (2.31.0)\n",
      "Requirement already satisfied: safetensors>=0.4.1 in c:\\users\\snehr\\appdata\\local\\programs\\python\\python311\\lib\\site-packages (from transformers) (0.4.5)\n",
      "Requirement already satisfied: tokenizers<0.20,>=0.19 in c:\\users\\snehr\\appdata\\local\\programs\\python\\python311\\lib\\site-packages (from transformers) (0.19.1)\n",
      "Requirement already satisfied: tqdm>=4.27 in c:\\users\\snehr\\appdata\\local\\programs\\python\\python311\\lib\\site-packages (from transformers) (4.66.2)\n",
      "Requirement already satisfied: fsspec>=2023.5.0 in c:\\users\\snehr\\appdata\\local\\programs\\python\\python311\\lib\\site-packages (from huggingface-hub<1.0,>=0.23.2->transformers) (2024.2.0)\n",
      "Requirement already satisfied: typing-extensions>=3.7.4.3 in c:\\users\\snehr\\appdata\\local\\programs\\python\\python311\\lib\\site-packages (from huggingface-hub<1.0,>=0.23.2->transformers) (4.10.0)\n",
      "Requirement already satisfied: colorama in c:\\users\\snehr\\appdata\\local\\programs\\python\\python311\\lib\\site-packages (from tqdm>=4.27->transformers) (0.4.6)\n",
      "Requirement already satisfied: charset-normalizer<4,>=2 in c:\\users\\snehr\\appdata\\local\\programs\\python\\python311\\lib\\site-packages (from requests->transformers) (3.3.2)\n",
      "Requirement already satisfied: idna<4,>=2.5 in c:\\users\\snehr\\appdata\\local\\programs\\python\\python311\\lib\\site-packages (from requests->transformers) (3.6)\n",
      "Requirement already satisfied: urllib3<3,>=1.21.1 in c:\\users\\snehr\\appdata\\local\\programs\\python\\python311\\lib\\site-packages (from requests->transformers) (2.2.1)\n",
      "Requirement already satisfied: certifi>=2017.4.17 in c:\\users\\snehr\\appdata\\local\\programs\\python\\python311\\lib\\site-packages (from requests->transformers) (2024.2.2)\n",
      "Note: you may need to restart the kernel to use updated packages.\n"
     ]
    },
    {
     "name": "stderr",
     "output_type": "stream",
     "text": [
      "\n",
      "[notice] A new release of pip is available: 24.0 -> 24.2\n",
      "[notice] To update, run: python.exe -m pip install --upgrade pip\n"
     ]
    }
   ],
   "source": [
    "pip install transformers"
   ]
  },
  {
   "cell_type": "code",
   "execution_count": 3,
   "id": "8342c41e",
   "metadata": {},
   "outputs": [
    {
     "name": "stdout",
     "output_type": "stream",
     "text": [
      "Requirement already satisfied: pymongo in c:\\users\\snehr\\appdata\\local\\programs\\python\\python311\\lib\\site-packages (4.8.0)\n",
      "Requirement already satisfied: dnspython<3.0.0,>=1.16.0 in c:\\users\\snehr\\appdata\\local\\programs\\python\\python311\\lib\\site-packages (from pymongo) (2.6.1)\n",
      "Note: you may need to restart the kernel to use updated packages.\n"
     ]
    },
    {
     "name": "stderr",
     "output_type": "stream",
     "text": [
      "\n",
      "[notice] A new release of pip is available: 24.0 -> 24.2\n",
      "[notice] To update, run: python.exe -m pip install --upgrade pip\n"
     ]
    }
   ],
   "source": [
    "pip install pymongo"
   ]
  },
  {
   "cell_type": "code",
   "execution_count": 4,
   "id": "2ace2db3-9613-4ec7-ba61-c97a1fed7c11",
   "metadata": {},
   "outputs": [
    {
     "name": "stderr",
     "output_type": "stream",
     "text": [
      "c:\\Users\\snehr\\AppData\\Local\\Programs\\Python\\Python311\\Lib\\site-packages\\tqdm\\auto.py:21: TqdmWarning: IProgress not found. Please update jupyter and ipywidgets. See https://ipywidgets.readthedocs.io/en/stable/user_install.html\n",
      "  from .autonotebook import tqdm as notebook_tqdm\n"
     ]
    }
   ],
   "source": [
    "import pandas as pd\n",
    "from pymongo import MongoClient\n",
    "from transformers import pipeline"
   ]
  },
  {
   "cell_type": "code",
   "execution_count": 5,
   "id": "3128978d-2ed7-4382-942a-e2a87252d0fd",
   "metadata": {},
   "outputs": [],
   "source": [
    "# Step 1: Load CSV data into MongoDB\n",
    "data = pd.read_csv('sample.csv')\n",
    "data_dict = data.to_dict('records')"
   ]
  },
  {
   "cell_type": "code",
   "execution_count": 6,
   "id": "c55d3f05-a1a8-47d9-87ea-3aeba89d10fa",
   "metadata": {},
   "outputs": [],
   "source": [
    "client = MongoClient('mongodb://localhost:27017/')\n",
    "db = client['AIQoD']\n",
    "collection = db['Sample_data']"
   ]
  },
  {
   "cell_type": "code",
   "execution_count": 9,
   "id": "7620a6a4-aa10-4c75-8454-49b110b4c732",
   "metadata": {},
   "outputs": [],
   "source": [
    "\n",
    "d={\"demo\":\"demo1\"}"
   ]
  },
  {
   "cell_type": "code",
   "execution_count": null,
   "id": "dc4dad62-5150-434a-ac0a-1ac4f35181aa",
   "metadata": {},
   "outputs": [],
   "source": [
    "collection.insert_one(d)"
   ]
  },
  {
   "cell_type": "code",
   "execution_count": 7,
   "id": "c11a8596-dcc4-4143-a98e-fda016e0667e",
   "metadata": {},
   "outputs": [],
   "source": [
    "d=data.to_dict()"
   ]
  },
  {
   "cell_type": "code",
   "execution_count": 8,
   "id": "f14b3708-6613-4dec-901c-b66bc25a01b7",
   "metadata": {},
   "outputs": [
    {
     "data": {
      "text/plain": [
       "10"
      ]
     },
     "execution_count": 8,
     "metadata": {},
     "output_type": "execute_result"
    }
   ],
   "source": [
    "len(data)"
   ]
  },
  {
   "cell_type": "code",
   "execution_count": 9,
   "id": "5984f5a1-a67c-4458-ab7d-d9fc5d2c2186",
   "metadata": {},
   "outputs": [
    {
     "data": {
      "text/plain": [
       "Index(['ProductID', 'ProductName', 'Category', 'Price', 'Rating',\n",
       "       'ReviewCount', 'Stock', 'Discount', 'Brand', 'LaunchDate'],\n",
       "      dtype='object')"
      ]
     },
     "execution_count": 9,
     "metadata": {},
     "output_type": "execute_result"
    }
   ],
   "source": [
    "data.columns"
   ]
  },
  {
   "cell_type": "code",
   "execution_count": 11,
   "id": "a0dab7d7-42df-4a40-8428-5cbb32dbf0cd",
   "metadata": {},
   "outputs": [],
   "source": [
    "d={}\n",
    "for i in data.columns:\n",
    "    d[i]=data[i].to_list()"
   ]
  },
  {
   "cell_type": "code",
   "execution_count": null,
   "id": "6d577b10-c0e6-4fd5-a467-ee7422fd9997",
   "metadata": {},
   "outputs": [],
   "source": [
    "collection.insert_one(d)"
   ]
  },
  {
   "cell_type": "code",
   "execution_count": 12,
   "id": "959951cb-4452-4c1c-8d11-92812690f63d",
   "metadata": {},
   "outputs": [
    {
     "data": {
      "text/plain": [
       "{'ProductID': [101, 102, 103, 104, 105, 106, 107, 108, 109, 110],\n",
       " 'ProductName': ['Wireless Mouse',\n",
       "  'Gaming Keyboard',\n",
       "  'Noise Cancelling Headphones',\n",
       "  'Running Shoes',\n",
       "  'Smartwatch',\n",
       "  'Blender',\n",
       "  'Coffee Maker',\n",
       "  'Yoga Mat',\n",
       "  'Smart TV',\n",
       "  'Vacuum Cleaner'],\n",
       " 'Category': ['Electronics',\n",
       "  'Electronics',\n",
       "  'Electronics',\n",
       "  'Sports',\n",
       "  'Electronics',\n",
       "  'Home & Kitchen',\n",
       "  'Home & Kitchen',\n",
       "  'Sports',\n",
       "  'Electronics',\n",
       "  'Home & Kitchen'],\n",
       " 'Price': [25.99,\n",
       "  75.49,\n",
       "  199.99,\n",
       "  49.99,\n",
       "  159.99,\n",
       "  39.99,\n",
       "  89.99,\n",
       "  29.99,\n",
       "  399.99,\n",
       "  129.99],\n",
       " 'Rating': [4.5, 4.7, 4.8, 4.3, 4.6, 4.2, 4.1, 4.4, 4.7, 4.3],\n",
       " 'ReviewCount': [200, 350, 125, 500, 220, 180, 240, 320, 150, 290],\n",
       " 'Stock': [150, 85, 60, 200, 45, 120, 90, 300, 25, 70],\n",
       " 'Discount': ['10%',\n",
       "  '5%',\n",
       "  '15%',\n",
       "  '20%',\n",
       "  '10%',\n",
       "  '12%',\n",
       "  '8%',\n",
       "  '5%',\n",
       "  '15%',\n",
       "  '10%'],\n",
       " 'Brand': ['Logitech',\n",
       "  'Corsair',\n",
       "  'Sony',\n",
       "  'Nike',\n",
       "  'Apple',\n",
       "  'Ninja',\n",
       "  'Keurig',\n",
       "  'Manduka',\n",
       "  'Samsung',\n",
       "  'Dyson'],\n",
       " 'LaunchDate': ['15-01-2022',\n",
       "  '20-11-2021',\n",
       "  '05-09-2021',\n",
       "  '10-02-2022',\n",
       "  '30-03-2022',\n",
       "  '25-12-2021',\n",
       "  '15-08-2021',\n",
       "  '05-01-2022',\n",
       "  '10-06-2022',\n",
       "  '20-10-2021']}"
      ]
     },
     "execution_count": 12,
     "metadata": {},
     "output_type": "execute_result"
    }
   ],
   "source": [
    "d"
   ]
  },
  {
   "cell_type": "code",
   "execution_count": 13,
   "id": "ccd74ab4-c572-4f07-b8a1-a06bb91a0767",
   "metadata": {},
   "outputs": [
    {
     "data": {
      "text/plain": [
       "['Electronics',\n",
       " 'Electronics',\n",
       " 'Electronics',\n",
       " 'Sports',\n",
       " 'Electronics',\n",
       " 'Home & Kitchen',\n",
       " 'Home & Kitchen',\n",
       " 'Sports',\n",
       " 'Electronics',\n",
       " 'Home & Kitchen']"
      ]
     },
     "execution_count": 13,
     "metadata": {},
     "output_type": "execute_result"
    }
   ],
   "source": [
    "d['Category']"
   ]
  },
  {
   "cell_type": "code",
   "execution_count": 31,
   "id": "2ffb4af3-dad1-48a8-86dc-928189e3ca83",
   "metadata": {},
   "outputs": [],
   "source": [
    "query = {\n",
    "    \"$and\": [\n",
    "        {\"rating\": {\"$lt\": 4.5}},\n",
    "        {\"reviews_count\": {\"$gt\": 200}},\n",
    "        {\"brand\": {\"$in\": [\"Nike\", \"Sony\"]}}\n",
    "    ]\n",
    "}\n",
    "\n",
    "# Execute the query\n",
    "products = collection.find(query)\n",
    "\n",
    "# Display the results\n",
    "for product in products:\n",
    "    print(product)\n"
   ]
  },
  {
   "cell_type": "code",
   "execution_count": null,
   "id": "df689dcb-98aa-48e0-978f-615b9b95f578",
   "metadata": {},
   "outputs": [],
   "source": [
    "data"
   ]
  },
  {
   "cell_type": "code",
   "execution_count": 9,
   "id": "c5f630aa-d704-4368-928c-9ce1cea6ad2e",
   "metadata": {},
   "outputs": [],
   "source": [
    "query = {\"rating\": {\"$lt\": 4.5}}\n",
    "products = collection.find(query)\n"
   ]
  },
  {
   "cell_type": "code",
   "execution_count": null,
   "id": "442f369f",
   "metadata": {},
   "outputs": [],
   "source": [
    "products"
   ]
  },
  {
   "cell_type": "code",
   "execution_count": 14,
   "id": "b03e8174",
   "metadata": {},
   "outputs": [],
   "source": [
    "from pprint import pprint"
   ]
  },
  {
   "cell_type": "code",
   "execution_count": 15,
   "id": "2d925788-ee0b-4f20-ab7f-b0d5a83480ad",
   "metadata": {},
   "outputs": [
    {
     "ename": "NameError",
     "evalue": "name 'products' is not defined",
     "output_type": "error",
     "traceback": [
      "\u001b[1;31m---------------------------------------------------------------------------\u001b[0m",
      "\u001b[1;31mNameError\u001b[0m                                 Traceback (most recent call last)",
      "Cell \u001b[1;32mIn[15], line 1\u001b[0m\n\u001b[1;32m----> 1\u001b[0m \u001b[38;5;28;01mfor\u001b[39;00m i \u001b[38;5;129;01min\u001b[39;00m \u001b[43mproducts\u001b[49m:\n\u001b[0;32m      2\u001b[0m     pprint(i)\n",
      "\u001b[1;31mNameError\u001b[0m: name 'products' is not defined"
     ]
    }
   ],
   "source": [
    "for i in products:\n",
    "    pprint(i)"
   ]
  },
  {
   "cell_type": "code",
   "execution_count": null,
   "id": "8e94cb5f-c38b-43ff-98b0-0cb016fb0b93",
   "metadata": {},
   "outputs": [],
   "source": [
    "data"
   ]
  },
  {
   "cell_type": "code",
   "execution_count": 16,
   "id": "6be47982-652e-4b0d-b535-f4728f2daef8",
   "metadata": {},
   "outputs": [],
   "source": [
    "cols=list(data.columns)"
   ]
  },
  {
   "cell_type": "code",
   "execution_count": 17,
   "id": "2940ce50",
   "metadata": {},
   "outputs": [],
   "source": [
    "l1=[]\n",
    "for j in range(len(data)):\n",
    "    d={}\n",
    "    for i in cols:\n",
    "        d[i]=str(data[i][j])\n",
    "    l1.append(d)"
   ]
  },
  {
   "cell_type": "code",
   "execution_count": 18,
   "id": "c30ac218",
   "metadata": {},
   "outputs": [
    {
     "data": {
      "text/plain": [
       "ProductID        int64\n",
       "ProductName     object\n",
       "Category        object\n",
       "Price          float64\n",
       "Rating         float64\n",
       "ReviewCount      int64\n",
       "Stock            int64\n",
       "Discount        object\n",
       "Brand           object\n",
       "LaunchDate      object\n",
       "dtype: object"
      ]
     },
     "execution_count": 18,
     "metadata": {},
     "output_type": "execute_result"
    }
   ],
   "source": [
    "data.dtypes"
   ]
  },
  {
   "cell_type": "code",
   "execution_count": 19,
   "id": "18ebd47f",
   "metadata": {},
   "outputs": [
    {
     "data": {
      "text/plain": [
       "InsertManyResult([ObjectId('66df1b678423dcf98577fb75'), ObjectId('66df1b678423dcf98577fb76'), ObjectId('66df1b678423dcf98577fb77'), ObjectId('66df1b678423dcf98577fb78'), ObjectId('66df1b678423dcf98577fb79'), ObjectId('66df1b678423dcf98577fb7a'), ObjectId('66df1b678423dcf98577fb7b'), ObjectId('66df1b678423dcf98577fb7c'), ObjectId('66df1b678423dcf98577fb7d'), ObjectId('66df1b678423dcf98577fb7e')], acknowledged=True)"
      ]
     },
     "execution_count": 19,
     "metadata": {},
     "output_type": "execute_result"
    }
   ],
   "source": [
    "collection.insert_many(l1)"
   ]
  },
  {
   "cell_type": "code",
   "execution_count": 20,
   "id": "c0cc4397",
   "metadata": {},
   "outputs": [
    {
     "data": {
      "text/plain": [
       "[{'ProductID': '101',\n",
       "  'ProductName': 'Wireless Mouse',\n",
       "  'Category': 'Electronics',\n",
       "  'Price': '25.99',\n",
       "  'Rating': '4.5',\n",
       "  'ReviewCount': '200',\n",
       "  'Stock': '150',\n",
       "  'Discount': '10%',\n",
       "  'Brand': 'Logitech',\n",
       "  'LaunchDate': '15-01-2022',\n",
       "  '_id': ObjectId('66df1b678423dcf98577fb75')},\n",
       " {'ProductID': '102',\n",
       "  'ProductName': 'Gaming Keyboard',\n",
       "  'Category': 'Electronics',\n",
       "  'Price': '75.49',\n",
       "  'Rating': '4.7',\n",
       "  'ReviewCount': '350',\n",
       "  'Stock': '85',\n",
       "  'Discount': '5%',\n",
       "  'Brand': 'Corsair',\n",
       "  'LaunchDate': '20-11-2021',\n",
       "  '_id': ObjectId('66df1b678423dcf98577fb76')},\n",
       " {'ProductID': '103',\n",
       "  'ProductName': 'Noise Cancelling Headphones',\n",
       "  'Category': 'Electronics',\n",
       "  'Price': '199.99',\n",
       "  'Rating': '4.8',\n",
       "  'ReviewCount': '125',\n",
       "  'Stock': '60',\n",
       "  'Discount': '15%',\n",
       "  'Brand': 'Sony',\n",
       "  'LaunchDate': '05-09-2021',\n",
       "  '_id': ObjectId('66df1b678423dcf98577fb77')},\n",
       " {'ProductID': '104',\n",
       "  'ProductName': 'Running Shoes',\n",
       "  'Category': 'Sports',\n",
       "  'Price': '49.99',\n",
       "  'Rating': '4.3',\n",
       "  'ReviewCount': '500',\n",
       "  'Stock': '200',\n",
       "  'Discount': '20%',\n",
       "  'Brand': 'Nike',\n",
       "  'LaunchDate': '10-02-2022',\n",
       "  '_id': ObjectId('66df1b678423dcf98577fb78')},\n",
       " {'ProductID': '105',\n",
       "  'ProductName': 'Smartwatch',\n",
       "  'Category': 'Electronics',\n",
       "  'Price': '159.99',\n",
       "  'Rating': '4.6',\n",
       "  'ReviewCount': '220',\n",
       "  'Stock': '45',\n",
       "  'Discount': '10%',\n",
       "  'Brand': 'Apple',\n",
       "  'LaunchDate': '30-03-2022',\n",
       "  '_id': ObjectId('66df1b678423dcf98577fb79')},\n",
       " {'ProductID': '106',\n",
       "  'ProductName': 'Blender',\n",
       "  'Category': 'Home & Kitchen',\n",
       "  'Price': '39.99',\n",
       "  'Rating': '4.2',\n",
       "  'ReviewCount': '180',\n",
       "  'Stock': '120',\n",
       "  'Discount': '12%',\n",
       "  'Brand': 'Ninja',\n",
       "  'LaunchDate': '25-12-2021',\n",
       "  '_id': ObjectId('66df1b678423dcf98577fb7a')},\n",
       " {'ProductID': '107',\n",
       "  'ProductName': 'Coffee Maker',\n",
       "  'Category': 'Home & Kitchen',\n",
       "  'Price': '89.99',\n",
       "  'Rating': '4.1',\n",
       "  'ReviewCount': '240',\n",
       "  'Stock': '90',\n",
       "  'Discount': '8%',\n",
       "  'Brand': 'Keurig',\n",
       "  'LaunchDate': '15-08-2021',\n",
       "  '_id': ObjectId('66df1b678423dcf98577fb7b')},\n",
       " {'ProductID': '108',\n",
       "  'ProductName': 'Yoga Mat',\n",
       "  'Category': 'Sports',\n",
       "  'Price': '29.99',\n",
       "  'Rating': '4.4',\n",
       "  'ReviewCount': '320',\n",
       "  'Stock': '300',\n",
       "  'Discount': '5%',\n",
       "  'Brand': 'Manduka',\n",
       "  'LaunchDate': '05-01-2022',\n",
       "  '_id': ObjectId('66df1b678423dcf98577fb7c')},\n",
       " {'ProductID': '109',\n",
       "  'ProductName': 'Smart TV',\n",
       "  'Category': 'Electronics',\n",
       "  'Price': '399.99',\n",
       "  'Rating': '4.7',\n",
       "  'ReviewCount': '150',\n",
       "  'Stock': '25',\n",
       "  'Discount': '15%',\n",
       "  'Brand': 'Samsung',\n",
       "  'LaunchDate': '10-06-2022',\n",
       "  '_id': ObjectId('66df1b678423dcf98577fb7d')},\n",
       " {'ProductID': '110',\n",
       "  'ProductName': 'Vacuum Cleaner',\n",
       "  'Category': 'Home & Kitchen',\n",
       "  'Price': '129.99',\n",
       "  'Rating': '4.3',\n",
       "  'ReviewCount': '290',\n",
       "  'Stock': '70',\n",
       "  'Discount': '10%',\n",
       "  'Brand': 'Dyson',\n",
       "  'LaunchDate': '20-10-2021',\n",
       "  '_id': ObjectId('66df1b678423dcf98577fb7e')}]"
      ]
     },
     "execution_count": 20,
     "metadata": {},
     "output_type": "execute_result"
    }
   ],
   "source": [
    "l1"
   ]
  },
  {
   "cell_type": "code",
   "execution_count": null,
   "id": "26cf4a53",
   "metadata": {},
   "outputs": [],
   "source": [
    "data"
   ]
  },
  {
   "cell_type": "code",
   "execution_count": 21,
   "id": "50610307",
   "metadata": {},
   "outputs": [
    {
     "data": {
      "text/plain": [
       "<pymongo.cursor.Cursor at 0x28332209cd0>"
      ]
     },
     "execution_count": 21,
     "metadata": {},
     "output_type": "execute_result"
    }
   ],
   "source": [
    "d={}\n",
    "a=\"d\" # columns name \n",
    "v=\"f\" # columns value\n",
    "d[a]=v\n",
    "collection.find(d)"
   ]
  },
  {
   "cell_type": "code",
   "execution_count": null,
   "id": "990929a9",
   "metadata": {},
   "outputs": [],
   "source": [
    "for i in res:\n",
    "    print(i)"
   ]
  },
  {
   "cell_type": "code",
   "execution_count": 19,
   "id": "a9fe1590",
   "metadata": {},
   "outputs": [],
   "source": [
    "a=\"Category\"\n",
    "v=\"Electronics\""
   ]
  },
  {
   "cell_type": "code",
   "execution_count": 22,
   "id": "952ec529",
   "metadata": {},
   "outputs": [],
   "source": [
    "d={}\n",
    "d[a]=v\n",
    "res=collection.find(d)\n",
    "for i in res:\n",
    "    print(i)"
   ]
  },
  {
   "cell_type": "code",
   "execution_count": 23,
   "id": "6b223749",
   "metadata": {},
   "outputs": [],
   "source": [
    "a=\"Rating\"\n",
    "v= \"4.7\""
   ]
  },
  {
   "cell_type": "code",
   "execution_count": 24,
   "id": "93460dd0",
   "metadata": {},
   "outputs": [
    {
     "name": "stdout",
     "output_type": "stream",
     "text": [
      "{'_id': ObjectId('66dd49d0767d079d90b22b89'), 'ProductID': '102', 'ProductName': 'Gaming Keyboard', 'Category': 'Electronics', 'Price': '75.49', 'Rating': '4.7', 'ReviewCount': '350', 'Stock': '85', 'Discount': '5%', 'Brand': 'Corsair', 'LaunchDate': '20-11-2021'}\n",
      "{'_id': ObjectId('66dd49d0767d079d90b22b90'), 'ProductID': '109', 'ProductName': 'Smart TV', 'Category': 'Electronics', 'Price': '399.99', 'Rating': '4.7', 'ReviewCount': '150', 'Stock': '25', 'Discount': '15%', 'Brand': 'Samsung', 'LaunchDate': '10-06-2022'}\n",
      "{'_id': ObjectId('66df01144cd94cbbe0b5d8f2'), 'ProductID': '102', 'ProductName': 'Gaming Keyboard', 'Category': 'Electronics', 'Price': '75.49', 'Rating': '4.7', 'ReviewCount': '350', 'Stock': '85', 'Discount': '5%', 'Brand': 'Corsair', 'LaunchDate': '20-11-2021'}\n",
      "{'_id': ObjectId('66df01144cd94cbbe0b5d8f9'), 'ProductID': '109', 'ProductName': 'Smart TV', 'Category': 'Electronics', 'Price': '399.99', 'Rating': '4.7', 'ReviewCount': '150', 'Stock': '25', 'Discount': '15%', 'Brand': 'Samsung', 'LaunchDate': '10-06-2022'}\n",
      "{'_id': ObjectId('66df1b678423dcf98577fb76'), 'ProductID': '102', 'ProductName': 'Gaming Keyboard', 'Category': 'Electronics', 'Price': '75.49', 'Rating': '4.7', 'ReviewCount': '350', 'Stock': '85', 'Discount': '5%', 'Brand': 'Corsair', 'LaunchDate': '20-11-2021'}\n",
      "{'_id': ObjectId('66df1b678423dcf98577fb7d'), 'ProductID': '109', 'ProductName': 'Smart TV', 'Category': 'Electronics', 'Price': '399.99', 'Rating': '4.7', 'ReviewCount': '150', 'Stock': '25', 'Discount': '15%', 'Brand': 'Samsung', 'LaunchDate': '10-06-2022'}\n"
     ]
    }
   ],
   "source": [
    "d={}\n",
    "d[a]=v\n",
    "res=collection.find(d)\n",
    "for i in res:\n",
    "    print(i)"
   ]
  },
  {
   "cell_type": "code",
   "execution_count": null,
   "id": "76237c55",
   "metadata": {},
   "outputs": [],
   "source": [
    "pip install tf-keras"
   ]
  },
  {
   "cell_type": "code",
   "execution_count": null,
   "id": "301dee86",
   "metadata": {},
   "outputs": [],
   "source": [
    "# Step 2: Load LLM\n",
    "generator = pipeline('text-generation', model='gpt2')"
   ]
  },
  {
   "cell_type": "code",
   "execution_count": null,
   "id": "16e927c8",
   "metadata": {},
   "outputs": [],
   "source": [
    "data.columns"
   ]
  },
  {
   "cell_type": "code",
   "execution_count": null,
   "id": "c9508ef5",
   "metadata": {},
   "outputs": [],
   "source": [
    "# Take input for the column header\n",
    "column_name = input(\"Enter the column header: \")\n"
   ]
  },
  {
   "cell_type": "code",
   "execution_count": null,
   "id": "1546dbbd",
   "metadata": {},
   "outputs": [],
   "source": []
  },
  {
   "cell_type": "code",
   "execution_count": null,
   "id": "e64dfb34",
   "metadata": {},
   "outputs": [],
   "source": []
  },
  {
   "cell_type": "code",
   "execution_count": null,
   "id": "625ac418",
   "metadata": {},
   "outputs": [],
   "source": []
  },
  {
   "cell_type": "code",
   "execution_count": null,
   "id": "fcafed76",
   "metadata": {},
   "outputs": [],
   "source": []
  },
  {
   "cell_type": "code",
   "execution_count": null,
   "id": "ab89de5f",
   "metadata": {},
   "outputs": [],
   "source": []
  },
  {
   "cell_type": "code",
   "execution_count": null,
   "id": "f7c3cf82",
   "metadata": {},
   "outputs": [],
   "source": []
  },
  {
   "cell_type": "code",
   "execution_count": null,
   "id": "b5bd7e96",
   "metadata": {},
   "outputs": [],
   "source": []
  },
  {
   "cell_type": "code",
   "execution_count": null,
   "id": "dd5b7659",
   "metadata": {},
   "outputs": [],
   "source": []
  },
  {
   "cell_type": "code",
   "execution_count": null,
   "id": "9c1126ec",
   "metadata": {},
   "outputs": [],
   "source": []
  },
  {
   "cell_type": "code",
   "execution_count": null,
   "id": "83080723",
   "metadata": {},
   "outputs": [],
   "source": []
  },
  {
   "cell_type": "code",
   "execution_count": null,
   "id": "63042850",
   "metadata": {},
   "outputs": [],
   "source": []
  },
  {
   "cell_type": "code",
   "execution_count": null,
   "id": "ac32efa7",
   "metadata": {},
   "outputs": [],
   "source": []
  },
  {
   "cell_type": "code",
   "execution_count": null,
   "id": "8423106b",
   "metadata": {},
   "outputs": [],
   "source": [
    "# Step 3: Accept user input and generate MongoDB query\n",
    "column_name = input(\"Enter the column name: \")\n",
    "prompt = f\"Generate a MongoDB query to retrieve all records where '{column_name}' exists.\"\n",
    "generated_query = generator(prompt, max_length=50)[0]['generated_text']\n",
    "\n",
    "print(\"Generated MongoDB Query: \", generated_query)"
   ]
  },
  {
   "cell_type": "code",
   "execution_count": null,
   "id": "6b6a4828",
   "metadata": {},
   "outputs": [],
   "source": [
    "data.columns"
   ]
  },
  {
   "cell_type": "code",
   "execution_count": null,
   "id": "34e66fee",
   "metadata": {},
   "outputs": [],
   "source": [
    "data.columns"
   ]
  },
  {
   "cell_type": "code",
   "execution_count": null,
   "id": "e22f39b5",
   "metadata": {},
   "outputs": [],
   "source": []
  },
  {
   "cell_type": "code",
   "execution_count": null,
   "id": "8cdac072",
   "metadata": {},
   "outputs": [],
   "source": []
  },
  {
   "cell_type": "code",
   "execution_count": null,
   "id": "801083bc",
   "metadata": {},
   "outputs": [],
   "source": []
  },
  {
   "cell_type": "code",
   "execution_count": null,
   "id": "433c80ee",
   "metadata": {},
   "outputs": [],
   "source": []
  },
  {
   "cell_type": "code",
   "execution_count": null,
   "id": "99e8cf0c",
   "metadata": {},
   "outputs": [],
   "source": []
  },
  {
   "cell_type": "code",
   "execution_count": null,
   "id": "2c0201c1",
   "metadata": {},
   "outputs": [],
   "source": []
  },
  {
   "cell_type": "code",
   "execution_count": null,
   "id": "9713bb92",
   "metadata": {},
   "outputs": [],
   "source": []
  },
  {
   "cell_type": "code",
   "execution_count": null,
   "id": "7036acaf",
   "metadata": {},
   "outputs": [],
   "source": []
  },
  {
   "cell_type": "code",
   "execution_count": null,
   "id": "f6f6a603",
   "metadata": {},
   "outputs": [],
   "source": []
  },
  {
   "cell_type": "code",
   "execution_count": null,
   "id": "6b11add1",
   "metadata": {},
   "outputs": [],
   "source": []
  },
  {
   "cell_type": "code",
   "execution_count": null,
   "id": "4f155333",
   "metadata": {},
   "outputs": [],
   "source": []
  },
  {
   "cell_type": "code",
   "execution_count": null,
   "id": "813b0ddc",
   "metadata": {},
   "outputs": [],
   "source": []
  },
  {
   "cell_type": "code",
   "execution_count": null,
   "id": "c4309beb",
   "metadata": {},
   "outputs": [],
   "source": []
  },
  {
   "cell_type": "code",
   "execution_count": null,
   "id": "cd494fec",
   "metadata": {},
   "outputs": [],
   "source": []
  },
  {
   "cell_type": "code",
   "execution_count": null,
   "id": "fe4be6ae",
   "metadata": {},
   "outputs": [],
   "source": []
  },
  {
   "cell_type": "code",
   "execution_count": null,
   "id": "1c11f66b",
   "metadata": {},
   "outputs": [],
   "source": []
  }
 ],
 "metadata": {
  "kernelspec": {
   "display_name": "Python 3 (ipykernel)",
   "language": "python",
   "name": "python3"
  },
  "language_info": {
   "codemirror_mode": {
    "name": "ipython",
    "version": 3
   },
   "file_extension": ".py",
   "mimetype": "text/x-python",
   "name": "python",
   "nbconvert_exporter": "python",
   "pygments_lexer": "ipython3",
   "version": "3.10.14"
  }
 },
 "nbformat": 4,
 "nbformat_minor": 5
}
