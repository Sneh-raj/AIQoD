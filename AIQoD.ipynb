{
 "cells": [
  {
   "cell_type": "code",
   "execution_count": null,
   "id": "4c49b9cf",
   "metadata": {},
   "outputs": [],
   "source": []
  },
  {
   "cell_type": "markdown",
   "id": "1de24274",
   "metadata": {},
   "source": [
    "## Code To Load the sample data into mongoDb database"
   ]
  },
  {
   "cell_type": "code",
   "execution_count": 7,
   "id": "09b7151e-56c2-488b-b211-e2a516dc7d7a",
   "metadata": {},
   "outputs": [
    {
     "name": "stdout",
     "output_type": "stream",
     "text": [
      "Requirement already satisfied: transformers in c:\\users\\snehr\\anaconda3\\lib\\site-packages (4.33.0)\n",
      "Requirement already satisfied: packaging>=20.0 in c:\\users\\snehr\\anaconda3\\lib\\site-packages (from transformers) (23.2)\n",
      "Requirement already satisfied: requests in c:\\users\\snehr\\anaconda3\\lib\\site-packages (from transformers) (2.32.2)\n",
      "Requirement already satisfied: safetensors>=0.3.1 in c:\\users\\snehr\\anaconda3\\lib\\site-packages (from transformers) (0.4.5)\n",
      "Requirement already satisfied: huggingface-hub<1.0,>=0.15.1 in c:\\users\\snehr\\anaconda3\\lib\\site-packages (from transformers) (0.24.6)\n",
      "Requirement already satisfied: pyyaml>=5.1 in c:\\users\\snehr\\anaconda3\\lib\\site-packages (from transformers) (6.0.1)\n",
      "Requirement already satisfied: tqdm>=4.27 in c:\\users\\snehr\\anaconda3\\lib\\site-packages (from transformers) (4.66.4)\n",
      "Requirement already satisfied: filelock in c:\\users\\snehr\\anaconda3\\lib\\site-packages (from transformers) (3.13.1)\n",
      "Requirement already satisfied: regex!=2019.12.17 in c:\\users\\snehr\\anaconda3\\lib\\site-packages (from transformers) (2024.4.28)\n",
      "Requirement already satisfied: tokenizers!=0.11.3,<0.14,>=0.11.1 in c:\\users\\snehr\\anaconda3\\lib\\site-packages (from transformers) (0.13.3)\n",
      "Requirement already satisfied: numpy>=1.17 in c:\\users\\snehr\\anaconda3\\lib\\site-packages (from transformers) (1.26.4)\n",
      "Requirement already satisfied: typing-extensions>=3.7.4.3 in c:\\users\\snehr\\anaconda3\\lib\\site-packages (from huggingface-hub<1.0,>=0.15.1->transformers) (4.11.0)\n",
      "Requirement already satisfied: fsspec>=2023.5.0 in c:\\users\\snehr\\anaconda3\\lib\\site-packages (from huggingface-hub<1.0,>=0.15.1->transformers) (2024.2.0)\n",
      "Requirement already satisfied: colorama in c:\\users\\snehr\\anaconda3\\lib\\site-packages (from tqdm>=4.27->transformers) (0.4.6)\n",
      "Requirement already satisfied: urllib3<3,>=1.21.1 in c:\\users\\snehr\\anaconda3\\lib\\site-packages (from requests->transformers) (2.2.1)\n",
      "Requirement already satisfied: idna<4,>=2.5 in c:\\users\\snehr\\anaconda3\\lib\\site-packages (from requests->transformers) (3.7)\n",
      "Requirement already satisfied: certifi>=2017.4.17 in c:\\users\\snehr\\anaconda3\\lib\\site-packages (from requests->transformers) (2024.8.30)\n",
      "Requirement already satisfied: charset-normalizer<4,>=2 in c:\\users\\snehr\\anaconda3\\lib\\site-packages (from requests->transformers) (2.0.4)\n",
      "Note: you may need to restart the kernel to use updated packages.\n"
     ]
    },
    {
     "name": "stderr",
     "output_type": "stream",
     "text": [
      "WARNING: Error parsing requirements for matplotlib: [Errno 2] No such file or directory: 'c:\\\\users\\\\snehr\\\\anaconda3\\\\lib\\\\site-packages\\\\matplotlib-3.8.4.dist-info\\\\METADATA'\n",
      "WARNING: Error parsing requirements for google-pasta: [Errno 2] No such file or directory: 'c:\\\\users\\\\snehr\\\\anaconda3\\\\lib\\\\site-packages\\\\google_pasta-0.2.0.dist-info\\\\METADATA'\n"
     ]
    }
   ],
   "source": [
    "pip install transformers"
   ]
  },
  {
   "cell_type": "code",
   "execution_count": 8,
   "id": "8342c41e",
   "metadata": {},
   "outputs": [
    {
     "name": "stdout",
     "output_type": "stream",
     "text": [
      "Note: you may need to restart the kernel to use updated packages.\n",
      "Requirement already satisfied: pymongo in c:\\users\\snehr\\anaconda3\\lib\\site-packages (4.8.0)\n",
      "Requirement already satisfied: dnspython<3.0.0,>=1.16.0 in c:\\users\\snehr\\anaconda3\\lib\\site-packages (from pymongo) (2.6.1)\n"
     ]
    },
    {
     "name": "stderr",
     "output_type": "stream",
     "text": [
      "WARNING: Error parsing requirements for matplotlib: [Errno 2] No such file or directory: 'c:\\\\users\\\\snehr\\\\anaconda3\\\\lib\\\\site-packages\\\\matplotlib-3.8.4.dist-info\\\\METADATA'\n",
      "WARNING: Error parsing requirements for google-pasta: [Errno 2] No such file or directory: 'c:\\\\users\\\\snehr\\\\anaconda3\\\\lib\\\\site-packages\\\\google_pasta-0.2.0.dist-info\\\\METADATA'\n"
     ]
    }
   ],
   "source": [
    "pip install pymongo"
   ]
  },
  {
   "cell_type": "code",
   "execution_count": 10,
   "id": "2ace2db3-9613-4ec7-ba61-c97a1fed7c11",
   "metadata": {},
   "outputs": [],
   "source": [
    "import pandas as pd\n",
    "from pymongo import MongoClient\n"
   ]
  },
  {
   "cell_type": "code",
   "execution_count": 11,
   "id": "3128978d-2ed7-4382-942a-e2a87252d0fd",
   "metadata": {},
   "outputs": [],
   "source": [
    "# Step 1: Load CSV data into MongoDB\n",
    "data = pd.read_csv('sample.csv')\n",
    "data_dict = data.to_dict('records')"
   ]
  },
  {
   "cell_type": "code",
   "execution_count": 12,
   "id": "c55d3f05-a1a8-47d9-87ea-3aeba89d10fa",
   "metadata": {},
   "outputs": [],
   "source": [
    "client = MongoClient('mongodb://localhost:27017/') # to build the connection with the mongodb\n",
    "db = client['AIQoD'] # database name\n",
    "collection = db['Sample_data'] # collection name"
   ]
  },
  {
   "cell_type": "code",
   "execution_count": null,
   "id": "dc4dad62-5150-434a-ac0a-1ac4f35181aa",
   "metadata": {},
   "outputs": [],
   "source": [
    "collection.insert_one(d) # to insert one collection"
   ]
  },
  {
   "cell_type": "code",
   "execution_count": 7,
   "id": "c11a8596-dcc4-4143-a98e-fda016e0667e",
   "metadata": {},
   "outputs": [],
   "source": [
    "d=data.to_dict() # to convert data into dict"
   ]
  },
  {
   "cell_type": "code",
   "execution_count": 8,
   "id": "f14b3708-6613-4dec-901c-b66bc25a01b7",
   "metadata": {},
   "outputs": [
    {
     "data": {
      "text/plain": [
       "10"
      ]
     },
     "execution_count": 8,
     "metadata": {},
     "output_type": "execute_result"
    }
   ],
   "source": [
    "len(data)"
   ]
  },
  {
   "cell_type": "code",
   "execution_count": 13,
   "id": "5984f5a1-a67c-4458-ab7d-d9fc5d2c2186",
   "metadata": {},
   "outputs": [
    {
     "data": {
      "text/plain": [
       "Index(['ProductID', 'ProductName', 'Category', 'Price', 'Rating',\n",
       "       'ReviewCount', 'Stock', 'Discount', 'Brand', 'LaunchDate'],\n",
       "      dtype='object')"
      ]
     },
     "execution_count": 13,
     "metadata": {},
     "output_type": "execute_result"
    }
   ],
   "source": [
    "data.columns"
   ]
  },
  {
   "cell_type": "code",
   "execution_count": 14,
   "id": "a0dab7d7-42df-4a40-8428-5cbb32dbf0cd",
   "metadata": {},
   "outputs": [],
   "source": [
    "d={}                 # to convert data into lists\n",
    "for i in data.columns:\n",
    "    d[i]=data[i].to_list()"
   ]
  },
  {
   "cell_type": "code",
   "execution_count": 15,
   "id": "6d577b10-c0e6-4fd5-a467-ee7422fd9997",
   "metadata": {},
   "outputs": [
    {
     "data": {
      "text/plain": [
       "InsertOneResult(ObjectId('66df8db007960dc3f6f1a6a0'), acknowledged=True)"
      ]
     },
     "execution_count": 15,
     "metadata": {},
     "output_type": "execute_result"
    }
   ],
   "source": [
    "collection.insert_one(d)"
   ]
  },
  {
   "cell_type": "code",
   "execution_count": 16,
   "id": "959951cb-4452-4c1c-8d11-92812690f63d",
   "metadata": {},
   "outputs": [
    {
     "data": {
      "text/plain": [
       "{'ProductID': [101, 102, 103, 104, 105, 106, 107, 108, 109, 110],\n",
       " 'ProductName': ['Wireless Mouse',\n",
       "  'Gaming Keyboard',\n",
       "  'Noise Cancelling Headphones',\n",
       "  'Running Shoes',\n",
       "  'Smartwatch',\n",
       "  'Blender',\n",
       "  'Coffee Maker',\n",
       "  'Yoga Mat',\n",
       "  'Smart TV',\n",
       "  'Vacuum Cleaner'],\n",
       " 'Category': ['Electronics',\n",
       "  'Electronics',\n",
       "  'Electronics',\n",
       "  'Sports',\n",
       "  'Electronics',\n",
       "  'Home & Kitchen',\n",
       "  'Home & Kitchen',\n",
       "  'Sports',\n",
       "  'Electronics',\n",
       "  'Home & Kitchen'],\n",
       " 'Price': [25.99,\n",
       "  75.49,\n",
       "  199.99,\n",
       "  49.99,\n",
       "  159.99,\n",
       "  39.99,\n",
       "  89.99,\n",
       "  29.99,\n",
       "  399.99,\n",
       "  129.99],\n",
       " 'Rating': [4.5, 4.7, 4.8, 4.3, 4.6, 4.2, 4.1, 4.4, 4.7, 4.3],\n",
       " 'ReviewCount': [200, 350, 125, 500, 220, 180, 240, 320, 150, 290],\n",
       " 'Stock': [150, 85, 60, 200, 45, 120, 90, 300, 25, 70],\n",
       " 'Discount': ['10%',\n",
       "  '5%',\n",
       "  '15%',\n",
       "  '20%',\n",
       "  '10%',\n",
       "  '12%',\n",
       "  '8%',\n",
       "  '5%',\n",
       "  '15%',\n",
       "  '10%'],\n",
       " 'Brand': ['Logitech',\n",
       "  'Corsair',\n",
       "  'Sony',\n",
       "  'Nike',\n",
       "  'Apple',\n",
       "  'Ninja',\n",
       "  'Keurig',\n",
       "  'Manduka',\n",
       "  'Samsung',\n",
       "  'Dyson'],\n",
       " 'LaunchDate': ['15-01-2022',\n",
       "  '20-11-2021',\n",
       "  '05-09-2021',\n",
       "  '10-02-2022',\n",
       "  '30-03-2022',\n",
       "  '25-12-2021',\n",
       "  '15-08-2021',\n",
       "  '05-01-2022',\n",
       "  '10-06-2022',\n",
       "  '20-10-2021'],\n",
       " '_id': ObjectId('66df8db007960dc3f6f1a6a0')}"
      ]
     },
     "execution_count": 16,
     "metadata": {},
     "output_type": "execute_result"
    }
   ],
   "source": [
    "d"
   ]
  },
  {
   "cell_type": "code",
   "execution_count": 17,
   "id": "ccd74ab4-c572-4f07-b8a1-a06bb91a0767",
   "metadata": {},
   "outputs": [
    {
     "data": {
      "text/plain": [
       "['Electronics',\n",
       " 'Electronics',\n",
       " 'Electronics',\n",
       " 'Sports',\n",
       " 'Electronics',\n",
       " 'Home & Kitchen',\n",
       " 'Home & Kitchen',\n",
       " 'Sports',\n",
       " 'Electronics',\n",
       " 'Home & Kitchen']"
      ]
     },
     "execution_count": 17,
     "metadata": {},
     "output_type": "execute_result"
    }
   ],
   "source": [
    "d['Category']"
   ]
  },
  {
   "cell_type": "code",
   "execution_count": 18,
   "id": "df689dcb-98aa-48e0-978f-615b9b95f578",
   "metadata": {},
   "outputs": [
    {
     "data": {
      "text/html": [
       "<div>\n",
       "<style scoped>\n",
       "    .dataframe tbody tr th:only-of-type {\n",
       "        vertical-align: middle;\n",
       "    }\n",
       "\n",
       "    .dataframe tbody tr th {\n",
       "        vertical-align: top;\n",
       "    }\n",
       "\n",
       "    .dataframe thead th {\n",
       "        text-align: right;\n",
       "    }\n",
       "</style>\n",
       "<table border=\"1\" class=\"dataframe\">\n",
       "  <thead>\n",
       "    <tr style=\"text-align: right;\">\n",
       "      <th></th>\n",
       "      <th>ProductID</th>\n",
       "      <th>ProductName</th>\n",
       "      <th>Category</th>\n",
       "      <th>Price</th>\n",
       "      <th>Rating</th>\n",
       "      <th>ReviewCount</th>\n",
       "      <th>Stock</th>\n",
       "      <th>Discount</th>\n",
       "      <th>Brand</th>\n",
       "      <th>LaunchDate</th>\n",
       "    </tr>\n",
       "  </thead>\n",
       "  <tbody>\n",
       "    <tr>\n",
       "      <th>0</th>\n",
       "      <td>101</td>\n",
       "      <td>Wireless Mouse</td>\n",
       "      <td>Electronics</td>\n",
       "      <td>25.99</td>\n",
       "      <td>4.5</td>\n",
       "      <td>200</td>\n",
       "      <td>150</td>\n",
       "      <td>10%</td>\n",
       "      <td>Logitech</td>\n",
       "      <td>15-01-2022</td>\n",
       "    </tr>\n",
       "    <tr>\n",
       "      <th>1</th>\n",
       "      <td>102</td>\n",
       "      <td>Gaming Keyboard</td>\n",
       "      <td>Electronics</td>\n",
       "      <td>75.49</td>\n",
       "      <td>4.7</td>\n",
       "      <td>350</td>\n",
       "      <td>85</td>\n",
       "      <td>5%</td>\n",
       "      <td>Corsair</td>\n",
       "      <td>20-11-2021</td>\n",
       "    </tr>\n",
       "    <tr>\n",
       "      <th>2</th>\n",
       "      <td>103</td>\n",
       "      <td>Noise Cancelling Headphones</td>\n",
       "      <td>Electronics</td>\n",
       "      <td>199.99</td>\n",
       "      <td>4.8</td>\n",
       "      <td>125</td>\n",
       "      <td>60</td>\n",
       "      <td>15%</td>\n",
       "      <td>Sony</td>\n",
       "      <td>05-09-2021</td>\n",
       "    </tr>\n",
       "    <tr>\n",
       "      <th>3</th>\n",
       "      <td>104</td>\n",
       "      <td>Running Shoes</td>\n",
       "      <td>Sports</td>\n",
       "      <td>49.99</td>\n",
       "      <td>4.3</td>\n",
       "      <td>500</td>\n",
       "      <td>200</td>\n",
       "      <td>20%</td>\n",
       "      <td>Nike</td>\n",
       "      <td>10-02-2022</td>\n",
       "    </tr>\n",
       "    <tr>\n",
       "      <th>4</th>\n",
       "      <td>105</td>\n",
       "      <td>Smartwatch</td>\n",
       "      <td>Electronics</td>\n",
       "      <td>159.99</td>\n",
       "      <td>4.6</td>\n",
       "      <td>220</td>\n",
       "      <td>45</td>\n",
       "      <td>10%</td>\n",
       "      <td>Apple</td>\n",
       "      <td>30-03-2022</td>\n",
       "    </tr>\n",
       "    <tr>\n",
       "      <th>5</th>\n",
       "      <td>106</td>\n",
       "      <td>Blender</td>\n",
       "      <td>Home &amp; Kitchen</td>\n",
       "      <td>39.99</td>\n",
       "      <td>4.2</td>\n",
       "      <td>180</td>\n",
       "      <td>120</td>\n",
       "      <td>12%</td>\n",
       "      <td>Ninja</td>\n",
       "      <td>25-12-2021</td>\n",
       "    </tr>\n",
       "    <tr>\n",
       "      <th>6</th>\n",
       "      <td>107</td>\n",
       "      <td>Coffee Maker</td>\n",
       "      <td>Home &amp; Kitchen</td>\n",
       "      <td>89.99</td>\n",
       "      <td>4.1</td>\n",
       "      <td>240</td>\n",
       "      <td>90</td>\n",
       "      <td>8%</td>\n",
       "      <td>Keurig</td>\n",
       "      <td>15-08-2021</td>\n",
       "    </tr>\n",
       "    <tr>\n",
       "      <th>7</th>\n",
       "      <td>108</td>\n",
       "      <td>Yoga Mat</td>\n",
       "      <td>Sports</td>\n",
       "      <td>29.99</td>\n",
       "      <td>4.4</td>\n",
       "      <td>320</td>\n",
       "      <td>300</td>\n",
       "      <td>5%</td>\n",
       "      <td>Manduka</td>\n",
       "      <td>05-01-2022</td>\n",
       "    </tr>\n",
       "    <tr>\n",
       "      <th>8</th>\n",
       "      <td>109</td>\n",
       "      <td>Smart TV</td>\n",
       "      <td>Electronics</td>\n",
       "      <td>399.99</td>\n",
       "      <td>4.7</td>\n",
       "      <td>150</td>\n",
       "      <td>25</td>\n",
       "      <td>15%</td>\n",
       "      <td>Samsung</td>\n",
       "      <td>10-06-2022</td>\n",
       "    </tr>\n",
       "    <tr>\n",
       "      <th>9</th>\n",
       "      <td>110</td>\n",
       "      <td>Vacuum Cleaner</td>\n",
       "      <td>Home &amp; Kitchen</td>\n",
       "      <td>129.99</td>\n",
       "      <td>4.3</td>\n",
       "      <td>290</td>\n",
       "      <td>70</td>\n",
       "      <td>10%</td>\n",
       "      <td>Dyson</td>\n",
       "      <td>20-10-2021</td>\n",
       "    </tr>\n",
       "  </tbody>\n",
       "</table>\n",
       "</div>"
      ],
      "text/plain": [
       "   ProductID                  ProductName        Category   Price  Rating  \\\n",
       "0        101               Wireless Mouse     Electronics   25.99     4.5   \n",
       "1        102              Gaming Keyboard     Electronics   75.49     4.7   \n",
       "2        103  Noise Cancelling Headphones     Electronics  199.99     4.8   \n",
       "3        104                Running Shoes          Sports   49.99     4.3   \n",
       "4        105                   Smartwatch     Electronics  159.99     4.6   \n",
       "5        106                      Blender  Home & Kitchen   39.99     4.2   \n",
       "6        107                 Coffee Maker  Home & Kitchen   89.99     4.1   \n",
       "7        108                     Yoga Mat          Sports   29.99     4.4   \n",
       "8        109                     Smart TV     Electronics  399.99     4.7   \n",
       "9        110               Vacuum Cleaner  Home & Kitchen  129.99     4.3   \n",
       "\n",
       "   ReviewCount  Stock Discount     Brand  LaunchDate  \n",
       "0          200    150      10%  Logitech  15-01-2022  \n",
       "1          350     85       5%   Corsair  20-11-2021  \n",
       "2          125     60      15%      Sony  05-09-2021  \n",
       "3          500    200      20%      Nike  10-02-2022  \n",
       "4          220     45      10%     Apple  30-03-2022  \n",
       "5          180    120      12%     Ninja  25-12-2021  \n",
       "6          240     90       8%    Keurig  15-08-2021  \n",
       "7          320    300       5%   Manduka  05-01-2022  \n",
       "8          150     25      15%   Samsung  10-06-2022  \n",
       "9          290     70      10%     Dyson  20-10-2021  "
      ]
     },
     "execution_count": 18,
     "metadata": {},
     "output_type": "execute_result"
    }
   ],
   "source": [
    "data"
   ]
  },
  {
   "cell_type": "code",
   "execution_count": 19,
   "id": "6be47982-652e-4b0d-b535-f4728f2daef8",
   "metadata": {},
   "outputs": [],
   "source": [
    "cols=list(data.columns)"
   ]
  },
  {
   "cell_type": "code",
   "execution_count": 20,
   "id": "2940ce50",
   "metadata": {},
   "outputs": [],
   "source": [
    "l1=[]\n",
    "for j in range(len(data)):\n",
    "    d={}\n",
    "    for i in cols:\n",
    "        d[i]=str(data[i][j])\n",
    "    l1.append(d)"
   ]
  },
  {
   "cell_type": "code",
   "execution_count": 21,
   "id": "c30ac218",
   "metadata": {},
   "outputs": [
    {
     "data": {
      "text/plain": [
       "ProductID        int64\n",
       "ProductName     object\n",
       "Category        object\n",
       "Price          float64\n",
       "Rating         float64\n",
       "ReviewCount      int64\n",
       "Stock            int64\n",
       "Discount        object\n",
       "Brand           object\n",
       "LaunchDate      object\n",
       "dtype: object"
      ]
     },
     "execution_count": 21,
     "metadata": {},
     "output_type": "execute_result"
    }
   ],
   "source": [
    "data.dtypes"
   ]
  },
  {
   "cell_type": "code",
   "execution_count": 22,
   "id": "18ebd47f",
   "metadata": {},
   "outputs": [
    {
     "data": {
      "text/plain": [
       "InsertManyResult([ObjectId('66df8dd707960dc3f6f1a6a1'), ObjectId('66df8dd707960dc3f6f1a6a2'), ObjectId('66df8dd707960dc3f6f1a6a3'), ObjectId('66df8dd707960dc3f6f1a6a4'), ObjectId('66df8dd707960dc3f6f1a6a5'), ObjectId('66df8dd707960dc3f6f1a6a6'), ObjectId('66df8dd707960dc3f6f1a6a7'), ObjectId('66df8dd707960dc3f6f1a6a8'), ObjectId('66df8dd707960dc3f6f1a6a9'), ObjectId('66df8dd707960dc3f6f1a6aa')], acknowledged=True)"
      ]
     },
     "execution_count": 22,
     "metadata": {},
     "output_type": "execute_result"
    }
   ],
   "source": [
    "collection.insert_many(l1)  # to insert  many collections at a time"
   ]
  },
  {
   "cell_type": "code",
   "execution_count": 23,
   "id": "c0cc4397",
   "metadata": {},
   "outputs": [
    {
     "data": {
      "text/plain": [
       "[{'ProductID': '101',\n",
       "  'ProductName': 'Wireless Mouse',\n",
       "  'Category': 'Electronics',\n",
       "  'Price': '25.99',\n",
       "  'Rating': '4.5',\n",
       "  'ReviewCount': '200',\n",
       "  'Stock': '150',\n",
       "  'Discount': '10%',\n",
       "  'Brand': 'Logitech',\n",
       "  'LaunchDate': '15-01-2022',\n",
       "  '_id': ObjectId('66df8dd707960dc3f6f1a6a1')},\n",
       " {'ProductID': '102',\n",
       "  'ProductName': 'Gaming Keyboard',\n",
       "  'Category': 'Electronics',\n",
       "  'Price': '75.49',\n",
       "  'Rating': '4.7',\n",
       "  'ReviewCount': '350',\n",
       "  'Stock': '85',\n",
       "  'Discount': '5%',\n",
       "  'Brand': 'Corsair',\n",
       "  'LaunchDate': '20-11-2021',\n",
       "  '_id': ObjectId('66df8dd707960dc3f6f1a6a2')},\n",
       " {'ProductID': '103',\n",
       "  'ProductName': 'Noise Cancelling Headphones',\n",
       "  'Category': 'Electronics',\n",
       "  'Price': '199.99',\n",
       "  'Rating': '4.8',\n",
       "  'ReviewCount': '125',\n",
       "  'Stock': '60',\n",
       "  'Discount': '15%',\n",
       "  'Brand': 'Sony',\n",
       "  'LaunchDate': '05-09-2021',\n",
       "  '_id': ObjectId('66df8dd707960dc3f6f1a6a3')},\n",
       " {'ProductID': '104',\n",
       "  'ProductName': 'Running Shoes',\n",
       "  'Category': 'Sports',\n",
       "  'Price': '49.99',\n",
       "  'Rating': '4.3',\n",
       "  'ReviewCount': '500',\n",
       "  'Stock': '200',\n",
       "  'Discount': '20%',\n",
       "  'Brand': 'Nike',\n",
       "  'LaunchDate': '10-02-2022',\n",
       "  '_id': ObjectId('66df8dd707960dc3f6f1a6a4')},\n",
       " {'ProductID': '105',\n",
       "  'ProductName': 'Smartwatch',\n",
       "  'Category': 'Electronics',\n",
       "  'Price': '159.99',\n",
       "  'Rating': '4.6',\n",
       "  'ReviewCount': '220',\n",
       "  'Stock': '45',\n",
       "  'Discount': '10%',\n",
       "  'Brand': 'Apple',\n",
       "  'LaunchDate': '30-03-2022',\n",
       "  '_id': ObjectId('66df8dd707960dc3f6f1a6a5')},\n",
       " {'ProductID': '106',\n",
       "  'ProductName': 'Blender',\n",
       "  'Category': 'Home & Kitchen',\n",
       "  'Price': '39.99',\n",
       "  'Rating': '4.2',\n",
       "  'ReviewCount': '180',\n",
       "  'Stock': '120',\n",
       "  'Discount': '12%',\n",
       "  'Brand': 'Ninja',\n",
       "  'LaunchDate': '25-12-2021',\n",
       "  '_id': ObjectId('66df8dd707960dc3f6f1a6a6')},\n",
       " {'ProductID': '107',\n",
       "  'ProductName': 'Coffee Maker',\n",
       "  'Category': 'Home & Kitchen',\n",
       "  'Price': '89.99',\n",
       "  'Rating': '4.1',\n",
       "  'ReviewCount': '240',\n",
       "  'Stock': '90',\n",
       "  'Discount': '8%',\n",
       "  'Brand': 'Keurig',\n",
       "  'LaunchDate': '15-08-2021',\n",
       "  '_id': ObjectId('66df8dd707960dc3f6f1a6a7')},\n",
       " {'ProductID': '108',\n",
       "  'ProductName': 'Yoga Mat',\n",
       "  'Category': 'Sports',\n",
       "  'Price': '29.99',\n",
       "  'Rating': '4.4',\n",
       "  'ReviewCount': '320',\n",
       "  'Stock': '300',\n",
       "  'Discount': '5%',\n",
       "  'Brand': 'Manduka',\n",
       "  'LaunchDate': '05-01-2022',\n",
       "  '_id': ObjectId('66df8dd707960dc3f6f1a6a8')},\n",
       " {'ProductID': '109',\n",
       "  'ProductName': 'Smart TV',\n",
       "  'Category': 'Electronics',\n",
       "  'Price': '399.99',\n",
       "  'Rating': '4.7',\n",
       "  'ReviewCount': '150',\n",
       "  'Stock': '25',\n",
       "  'Discount': '15%',\n",
       "  'Brand': 'Samsung',\n",
       "  'LaunchDate': '10-06-2022',\n",
       "  '_id': ObjectId('66df8dd707960dc3f6f1a6a9')},\n",
       " {'ProductID': '110',\n",
       "  'ProductName': 'Vacuum Cleaner',\n",
       "  'Category': 'Home & Kitchen',\n",
       "  'Price': '129.99',\n",
       "  'Rating': '4.3',\n",
       "  'ReviewCount': '290',\n",
       "  'Stock': '70',\n",
       "  'Discount': '10%',\n",
       "  'Brand': 'Dyson',\n",
       "  'LaunchDate': '20-10-2021',\n",
       "  '_id': ObjectId('66df8dd707960dc3f6f1a6aa')}]"
      ]
     },
     "execution_count": 23,
     "metadata": {},
     "output_type": "execute_result"
    }
   ],
   "source": [
    "l1"
   ]
  },
  {
   "cell_type": "code",
   "execution_count": 24,
   "id": "26cf4a53",
   "metadata": {},
   "outputs": [
    {
     "data": {
      "text/html": [
       "<div>\n",
       "<style scoped>\n",
       "    .dataframe tbody tr th:only-of-type {\n",
       "        vertical-align: middle;\n",
       "    }\n",
       "\n",
       "    .dataframe tbody tr th {\n",
       "        vertical-align: top;\n",
       "    }\n",
       "\n",
       "    .dataframe thead th {\n",
       "        text-align: right;\n",
       "    }\n",
       "</style>\n",
       "<table border=\"1\" class=\"dataframe\">\n",
       "  <thead>\n",
       "    <tr style=\"text-align: right;\">\n",
       "      <th></th>\n",
       "      <th>ProductID</th>\n",
       "      <th>ProductName</th>\n",
       "      <th>Category</th>\n",
       "      <th>Price</th>\n",
       "      <th>Rating</th>\n",
       "      <th>ReviewCount</th>\n",
       "      <th>Stock</th>\n",
       "      <th>Discount</th>\n",
       "      <th>Brand</th>\n",
       "      <th>LaunchDate</th>\n",
       "    </tr>\n",
       "  </thead>\n",
       "  <tbody>\n",
       "    <tr>\n",
       "      <th>0</th>\n",
       "      <td>101</td>\n",
       "      <td>Wireless Mouse</td>\n",
       "      <td>Electronics</td>\n",
       "      <td>25.99</td>\n",
       "      <td>4.5</td>\n",
       "      <td>200</td>\n",
       "      <td>150</td>\n",
       "      <td>10%</td>\n",
       "      <td>Logitech</td>\n",
       "      <td>15-01-2022</td>\n",
       "    </tr>\n",
       "    <tr>\n",
       "      <th>1</th>\n",
       "      <td>102</td>\n",
       "      <td>Gaming Keyboard</td>\n",
       "      <td>Electronics</td>\n",
       "      <td>75.49</td>\n",
       "      <td>4.7</td>\n",
       "      <td>350</td>\n",
       "      <td>85</td>\n",
       "      <td>5%</td>\n",
       "      <td>Corsair</td>\n",
       "      <td>20-11-2021</td>\n",
       "    </tr>\n",
       "    <tr>\n",
       "      <th>2</th>\n",
       "      <td>103</td>\n",
       "      <td>Noise Cancelling Headphones</td>\n",
       "      <td>Electronics</td>\n",
       "      <td>199.99</td>\n",
       "      <td>4.8</td>\n",
       "      <td>125</td>\n",
       "      <td>60</td>\n",
       "      <td>15%</td>\n",
       "      <td>Sony</td>\n",
       "      <td>05-09-2021</td>\n",
       "    </tr>\n",
       "    <tr>\n",
       "      <th>3</th>\n",
       "      <td>104</td>\n",
       "      <td>Running Shoes</td>\n",
       "      <td>Sports</td>\n",
       "      <td>49.99</td>\n",
       "      <td>4.3</td>\n",
       "      <td>500</td>\n",
       "      <td>200</td>\n",
       "      <td>20%</td>\n",
       "      <td>Nike</td>\n",
       "      <td>10-02-2022</td>\n",
       "    </tr>\n",
       "    <tr>\n",
       "      <th>4</th>\n",
       "      <td>105</td>\n",
       "      <td>Smartwatch</td>\n",
       "      <td>Electronics</td>\n",
       "      <td>159.99</td>\n",
       "      <td>4.6</td>\n",
       "      <td>220</td>\n",
       "      <td>45</td>\n",
       "      <td>10%</td>\n",
       "      <td>Apple</td>\n",
       "      <td>30-03-2022</td>\n",
       "    </tr>\n",
       "    <tr>\n",
       "      <th>5</th>\n",
       "      <td>106</td>\n",
       "      <td>Blender</td>\n",
       "      <td>Home &amp; Kitchen</td>\n",
       "      <td>39.99</td>\n",
       "      <td>4.2</td>\n",
       "      <td>180</td>\n",
       "      <td>120</td>\n",
       "      <td>12%</td>\n",
       "      <td>Ninja</td>\n",
       "      <td>25-12-2021</td>\n",
       "    </tr>\n",
       "    <tr>\n",
       "      <th>6</th>\n",
       "      <td>107</td>\n",
       "      <td>Coffee Maker</td>\n",
       "      <td>Home &amp; Kitchen</td>\n",
       "      <td>89.99</td>\n",
       "      <td>4.1</td>\n",
       "      <td>240</td>\n",
       "      <td>90</td>\n",
       "      <td>8%</td>\n",
       "      <td>Keurig</td>\n",
       "      <td>15-08-2021</td>\n",
       "    </tr>\n",
       "    <tr>\n",
       "      <th>7</th>\n",
       "      <td>108</td>\n",
       "      <td>Yoga Mat</td>\n",
       "      <td>Sports</td>\n",
       "      <td>29.99</td>\n",
       "      <td>4.4</td>\n",
       "      <td>320</td>\n",
       "      <td>300</td>\n",
       "      <td>5%</td>\n",
       "      <td>Manduka</td>\n",
       "      <td>05-01-2022</td>\n",
       "    </tr>\n",
       "    <tr>\n",
       "      <th>8</th>\n",
       "      <td>109</td>\n",
       "      <td>Smart TV</td>\n",
       "      <td>Electronics</td>\n",
       "      <td>399.99</td>\n",
       "      <td>4.7</td>\n",
       "      <td>150</td>\n",
       "      <td>25</td>\n",
       "      <td>15%</td>\n",
       "      <td>Samsung</td>\n",
       "      <td>10-06-2022</td>\n",
       "    </tr>\n",
       "    <tr>\n",
       "      <th>9</th>\n",
       "      <td>110</td>\n",
       "      <td>Vacuum Cleaner</td>\n",
       "      <td>Home &amp; Kitchen</td>\n",
       "      <td>129.99</td>\n",
       "      <td>4.3</td>\n",
       "      <td>290</td>\n",
       "      <td>70</td>\n",
       "      <td>10%</td>\n",
       "      <td>Dyson</td>\n",
       "      <td>20-10-2021</td>\n",
       "    </tr>\n",
       "  </tbody>\n",
       "</table>\n",
       "</div>"
      ],
      "text/plain": [
       "   ProductID                  ProductName        Category   Price  Rating  \\\n",
       "0        101               Wireless Mouse     Electronics   25.99     4.5   \n",
       "1        102              Gaming Keyboard     Electronics   75.49     4.7   \n",
       "2        103  Noise Cancelling Headphones     Electronics  199.99     4.8   \n",
       "3        104                Running Shoes          Sports   49.99     4.3   \n",
       "4        105                   Smartwatch     Electronics  159.99     4.6   \n",
       "5        106                      Blender  Home & Kitchen   39.99     4.2   \n",
       "6        107                 Coffee Maker  Home & Kitchen   89.99     4.1   \n",
       "7        108                     Yoga Mat          Sports   29.99     4.4   \n",
       "8        109                     Smart TV     Electronics  399.99     4.7   \n",
       "9        110               Vacuum Cleaner  Home & Kitchen  129.99     4.3   \n",
       "\n",
       "   ReviewCount  Stock Discount     Brand  LaunchDate  \n",
       "0          200    150      10%  Logitech  15-01-2022  \n",
       "1          350     85       5%   Corsair  20-11-2021  \n",
       "2          125     60      15%      Sony  05-09-2021  \n",
       "3          500    200      20%      Nike  10-02-2022  \n",
       "4          220     45      10%     Apple  30-03-2022  \n",
       "5          180    120      12%     Ninja  25-12-2021  \n",
       "6          240     90       8%    Keurig  15-08-2021  \n",
       "7          320    300       5%   Manduka  05-01-2022  \n",
       "8          150     25      15%   Samsung  10-06-2022  \n",
       "9          290     70      10%     Dyson  20-10-2021  "
      ]
     },
     "execution_count": 24,
     "metadata": {},
     "output_type": "execute_result"
    }
   ],
   "source": [
    "data"
   ]
  },
  {
   "cell_type": "code",
   "execution_count": 31,
   "id": "50610307",
   "metadata": {},
   "outputs": [
    {
     "data": {
      "text/plain": [
       "<pymongo.cursor.Cursor at 0x23d03137ac0>"
      ]
     },
     "execution_count": 31,
     "metadata": {},
     "output_type": "execute_result"
    }
   ],
   "source": [
    "d={}\n",
    "a=\"d\" # columns name \n",
    "v=\"f\" # columns value\n",
    "d[a]=v\n",
    "collection.find(d)"
   ]
  },
  {
   "cell_type": "code",
   "execution_count": 32,
   "id": "990929a9",
   "metadata": {},
   "outputs": [],
   "source": [
    "for i in res:\n",
    "    print(i)"
   ]
  },
  {
   "cell_type": "markdown",
   "id": "0dbfb2a0",
   "metadata": {},
   "source": [
    "# Some Sample queries"
   ]
  },
  {
   "cell_type": "code",
   "execution_count": 42,
   "id": "7a3604cf",
   "metadata": {},
   "outputs": [],
   "source": [
    "prompt = 'To fetch all items that include electronics'"
   ]
  },
  {
   "cell_type": "code",
   "execution_count": 33,
   "id": "a9fe1590",
   "metadata": {},
   "outputs": [],
   "source": [
    "query : {\n",
    "  a=\"Category\"\n",
    "v=\"Electronics\"\n",
    " }"
   ]
  },
  {
   "cell_type": "code",
   "execution_count": 34,
   "id": "952ec529",
   "metadata": {},
   "outputs": [
    {
     "name": "stdout",
     "output_type": "stream",
     "text": [
      "{'_id': ObjectId('66dd49d0767d079d90b22b88'), 'ProductID': '101', 'ProductName': 'Wireless Mouse', 'Category': 'Electronics', 'Price': '25.99', 'Rating': '4.5', 'ReviewCount': '200', 'Stock': '150', 'Discount': '10%', 'Brand': 'Logitech', 'LaunchDate': '15-01-2022'}\n",
      "{'_id': ObjectId('66dd49d0767d079d90b22b89'), 'ProductID': '102', 'ProductName': 'Gaming Keyboard', 'Category': 'Electronics', 'Price': '75.49', 'Rating': '4.7', 'ReviewCount': '350', 'Stock': '85', 'Discount': '5%', 'Brand': 'Corsair', 'LaunchDate': '20-11-2021'}\n",
      "{'_id': ObjectId('66dd49d0767d079d90b22b8a'), 'ProductID': '103', 'ProductName': 'Noise Cancelling Headphones', 'Category': 'Electronics', 'Price': '199.99', 'Rating': '4.8', 'ReviewCount': '125', 'Stock': '60', 'Discount': '15%', 'Brand': 'Sony', 'LaunchDate': '05-09-2021'}\n",
      "{'_id': ObjectId('66dd49d0767d079d90b22b8c'), 'ProductID': '105', 'ProductName': 'Smartwatch', 'Category': 'Electronics', 'Price': '159.99', 'Rating': '4.6', 'ReviewCount': '220', 'Stock': '45', 'Discount': '10%', 'Brand': 'Apple', 'LaunchDate': '30-03-2022'}\n",
      "{'_id': ObjectId('66dd49d0767d079d90b22b90'), 'ProductID': '109', 'ProductName': 'Smart TV', 'Category': 'Electronics', 'Price': '399.99', 'Rating': '4.7', 'ReviewCount': '150', 'Stock': '25', 'Discount': '15%', 'Brand': 'Samsung', 'LaunchDate': '10-06-2022'}\n",
      "{'_id': ObjectId('66df00d34cd94cbbe0b5d8f0'), 'ProductID': [101, 102, 103, 104, 105, 106, 107, 108, 109, 110], 'ProductName': ['Wireless Mouse', 'Gaming Keyboard', 'Noise Cancelling Headphones', 'Running Shoes', 'Smartwatch', 'Blender', 'Coffee Maker', 'Yoga Mat', 'Smart TV', 'Vacuum Cleaner'], 'Category': ['Electronics', 'Electronics', 'Electronics', 'Sports', 'Electronics', 'Home & Kitchen', 'Home & Kitchen', 'Sports', 'Electronics', 'Home & Kitchen'], 'Price': [25.99, 75.49, 199.99, 49.99, 159.99, 39.99, 89.99, 29.99, 399.99, 129.99], 'Rating': [4.5, 4.7, 4.8, 4.3, 4.6, 4.2, 4.1, 4.4, 4.7, 4.3], 'ReviewCount': [200, 350, 125, 500, 220, 180, 240, 320, 150, 290], 'Stock': [150, 85, 60, 200, 45, 120, 90, 300, 25, 70], 'Discount': ['10%', '5%', '15%', '20%', '10%', '12%', '8%', '5%', '15%', '10%'], 'Brand': ['Logitech', 'Corsair', 'Sony', 'Nike', 'Apple', 'Ninja', 'Keurig', 'Manduka', 'Samsung', 'Dyson'], 'LaunchDate': ['15-01-2022', '20-11-2021', '05-09-2021', '10-02-2022', '30-03-2022', '25-12-2021', '15-08-2021', '05-01-2022', '10-06-2022', '20-10-2021']}\n",
      "{'_id': ObjectId('66df01144cd94cbbe0b5d8f1'), 'ProductID': '101', 'ProductName': 'Wireless Mouse', 'Category': 'Electronics', 'Price': '25.99', 'Rating': '4.5', 'ReviewCount': '200', 'Stock': '150', 'Discount': '10%', 'Brand': 'Logitech', 'LaunchDate': '15-01-2022'}\n",
      "{'_id': ObjectId('66df01144cd94cbbe0b5d8f2'), 'ProductID': '102', 'ProductName': 'Gaming Keyboard', 'Category': 'Electronics', 'Price': '75.49', 'Rating': '4.7', 'ReviewCount': '350', 'Stock': '85', 'Discount': '5%', 'Brand': 'Corsair', 'LaunchDate': '20-11-2021'}\n",
      "{'_id': ObjectId('66df01144cd94cbbe0b5d8f3'), 'ProductID': '103', 'ProductName': 'Noise Cancelling Headphones', 'Category': 'Electronics', 'Price': '199.99', 'Rating': '4.8', 'ReviewCount': '125', 'Stock': '60', 'Discount': '15%', 'Brand': 'Sony', 'LaunchDate': '05-09-2021'}\n",
      "{'_id': ObjectId('66df01144cd94cbbe0b5d8f5'), 'ProductID': '105', 'ProductName': 'Smartwatch', 'Category': 'Electronics', 'Price': '159.99', 'Rating': '4.6', 'ReviewCount': '220', 'Stock': '45', 'Discount': '10%', 'Brand': 'Apple', 'LaunchDate': '30-03-2022'}\n",
      "{'_id': ObjectId('66df01144cd94cbbe0b5d8f9'), 'ProductID': '109', 'ProductName': 'Smart TV', 'Category': 'Electronics', 'Price': '399.99', 'Rating': '4.7', 'ReviewCount': '150', 'Stock': '25', 'Discount': '15%', 'Brand': 'Samsung', 'LaunchDate': '10-06-2022'}\n",
      "{'_id': ObjectId('66df1b678423dcf98577fb75'), 'ProductID': '101', 'ProductName': 'Wireless Mouse', 'Category': 'Electronics', 'Price': '25.99', 'Rating': '4.5', 'ReviewCount': '200', 'Stock': '150', 'Discount': '10%', 'Brand': 'Logitech', 'LaunchDate': '15-01-2022'}\n",
      "{'_id': ObjectId('66df1b678423dcf98577fb76'), 'ProductID': '102', 'ProductName': 'Gaming Keyboard', 'Category': 'Electronics', 'Price': '75.49', 'Rating': '4.7', 'ReviewCount': '350', 'Stock': '85', 'Discount': '5%', 'Brand': 'Corsair', 'LaunchDate': '20-11-2021'}\n",
      "{'_id': ObjectId('66df1b678423dcf98577fb77'), 'ProductID': '103', 'ProductName': 'Noise Cancelling Headphones', 'Category': 'Electronics', 'Price': '199.99', 'Rating': '4.8', 'ReviewCount': '125', 'Stock': '60', 'Discount': '15%', 'Brand': 'Sony', 'LaunchDate': '05-09-2021'}\n",
      "{'_id': ObjectId('66df1b678423dcf98577fb79'), 'ProductID': '105', 'ProductName': 'Smartwatch', 'Category': 'Electronics', 'Price': '159.99', 'Rating': '4.6', 'ReviewCount': '220', 'Stock': '45', 'Discount': '10%', 'Brand': 'Apple', 'LaunchDate': '30-03-2022'}\n",
      "{'_id': ObjectId('66df1b678423dcf98577fb7d'), 'ProductID': '109', 'ProductName': 'Smart TV', 'Category': 'Electronics', 'Price': '399.99', 'Rating': '4.7', 'ReviewCount': '150', 'Stock': '25', 'Discount': '15%', 'Brand': 'Samsung', 'LaunchDate': '10-06-2022'}\n",
      "{'_id': ObjectId('66df8db007960dc3f6f1a6a0'), 'ProductID': [101, 102, 103, 104, 105, 106, 107, 108, 109, 110], 'ProductName': ['Wireless Mouse', 'Gaming Keyboard', 'Noise Cancelling Headphones', 'Running Shoes', 'Smartwatch', 'Blender', 'Coffee Maker', 'Yoga Mat', 'Smart TV', 'Vacuum Cleaner'], 'Category': ['Electronics', 'Electronics', 'Electronics', 'Sports', 'Electronics', 'Home & Kitchen', 'Home & Kitchen', 'Sports', 'Electronics', 'Home & Kitchen'], 'Price': [25.99, 75.49, 199.99, 49.99, 159.99, 39.99, 89.99, 29.99, 399.99, 129.99], 'Rating': [4.5, 4.7, 4.8, 4.3, 4.6, 4.2, 4.1, 4.4, 4.7, 4.3], 'ReviewCount': [200, 350, 125, 500, 220, 180, 240, 320, 150, 290], 'Stock': [150, 85, 60, 200, 45, 120, 90, 300, 25, 70], 'Discount': ['10%', '5%', '15%', '20%', '10%', '12%', '8%', '5%', '15%', '10%'], 'Brand': ['Logitech', 'Corsair', 'Sony', 'Nike', 'Apple', 'Ninja', 'Keurig', 'Manduka', 'Samsung', 'Dyson'], 'LaunchDate': ['15-01-2022', '20-11-2021', '05-09-2021', '10-02-2022', '30-03-2022', '25-12-2021', '15-08-2021', '05-01-2022', '10-06-2022', '20-10-2021']}\n",
      "{'_id': ObjectId('66df8dd707960dc3f6f1a6a1'), 'ProductID': '101', 'ProductName': 'Wireless Mouse', 'Category': 'Electronics', 'Price': '25.99', 'Rating': '4.5', 'ReviewCount': '200', 'Stock': '150', 'Discount': '10%', 'Brand': 'Logitech', 'LaunchDate': '15-01-2022'}\n",
      "{'_id': ObjectId('66df8dd707960dc3f6f1a6a2'), 'ProductID': '102', 'ProductName': 'Gaming Keyboard', 'Category': 'Electronics', 'Price': '75.49', 'Rating': '4.7', 'ReviewCount': '350', 'Stock': '85', 'Discount': '5%', 'Brand': 'Corsair', 'LaunchDate': '20-11-2021'}\n",
      "{'_id': ObjectId('66df8dd707960dc3f6f1a6a3'), 'ProductID': '103', 'ProductName': 'Noise Cancelling Headphones', 'Category': 'Electronics', 'Price': '199.99', 'Rating': '4.8', 'ReviewCount': '125', 'Stock': '60', 'Discount': '15%', 'Brand': 'Sony', 'LaunchDate': '05-09-2021'}\n",
      "{'_id': ObjectId('66df8dd707960dc3f6f1a6a5'), 'ProductID': '105', 'ProductName': 'Smartwatch', 'Category': 'Electronics', 'Price': '159.99', 'Rating': '4.6', 'ReviewCount': '220', 'Stock': '45', 'Discount': '10%', 'Brand': 'Apple', 'LaunchDate': '30-03-2022'}\n",
      "{'_id': ObjectId('66df8dd707960dc3f6f1a6a9'), 'ProductID': '109', 'ProductName': 'Smart TV', 'Category': 'Electronics', 'Price': '399.99', 'Rating': '4.7', 'ReviewCount': '150', 'Stock': '25', 'Discount': '15%', 'Brand': 'Samsung', 'LaunchDate': '10-06-2022'}\n"
     ]
    }
   ],
   "source": [
    "d={}\n",
    "d[a]=v\n",
    "res=collection.find(d)\n",
    "for i in res:\n",
    "    print(i)"
   ]
  },
  {
   "cell_type": "code",
   "execution_count": 40,
   "id": "3258b78e",
   "metadata": {},
   "outputs": [],
   "source": [
    "prompt = 'To fetch all products above 4.7 rating'"
   ]
  },
  {
   "cell_type": "code",
   "execution_count": 27,
   "id": "6b223749",
   "metadata": {},
   "outputs": [],
   "source": [
    "query:{\n",
    "a=\"Rating\"\n",
    "v= \"4.7\"\n",
    "}"
   ]
  },
  {
   "cell_type": "code",
   "execution_count": 28,
   "id": "93460dd0",
   "metadata": {},
   "outputs": [
    {
     "name": "stdout",
     "output_type": "stream",
     "text": [
      "{'_id': ObjectId('66dd49d0767d079d90b22b89'), 'ProductID': '102', 'ProductName': 'Gaming Keyboard', 'Category': 'Electronics', 'Price': '75.49', 'Rating': '4.7', 'ReviewCount': '350', 'Stock': '85', 'Discount': '5%', 'Brand': 'Corsair', 'LaunchDate': '20-11-2021'}\n",
      "{'_id': ObjectId('66dd49d0767d079d90b22b90'), 'ProductID': '109', 'ProductName': 'Smart TV', 'Category': 'Electronics', 'Price': '399.99', 'Rating': '4.7', 'ReviewCount': '150', 'Stock': '25', 'Discount': '15%', 'Brand': 'Samsung', 'LaunchDate': '10-06-2022'}\n",
      "{'_id': ObjectId('66df01144cd94cbbe0b5d8f2'), 'ProductID': '102', 'ProductName': 'Gaming Keyboard', 'Category': 'Electronics', 'Price': '75.49', 'Rating': '4.7', 'ReviewCount': '350', 'Stock': '85', 'Discount': '5%', 'Brand': 'Corsair', 'LaunchDate': '20-11-2021'}\n",
      "{'_id': ObjectId('66df01144cd94cbbe0b5d8f9'), 'ProductID': '109', 'ProductName': 'Smart TV', 'Category': 'Electronics', 'Price': '399.99', 'Rating': '4.7', 'ReviewCount': '150', 'Stock': '25', 'Discount': '15%', 'Brand': 'Samsung', 'LaunchDate': '10-06-2022'}\n",
      "{'_id': ObjectId('66df1b678423dcf98577fb76'), 'ProductID': '102', 'ProductName': 'Gaming Keyboard', 'Category': 'Electronics', 'Price': '75.49', 'Rating': '4.7', 'ReviewCount': '350', 'Stock': '85', 'Discount': '5%', 'Brand': 'Corsair', 'LaunchDate': '20-11-2021'}\n",
      "{'_id': ObjectId('66df1b678423dcf98577fb7d'), 'ProductID': '109', 'ProductName': 'Smart TV', 'Category': 'Electronics', 'Price': '399.99', 'Rating': '4.7', 'ReviewCount': '150', 'Stock': '25', 'Discount': '15%', 'Brand': 'Samsung', 'LaunchDate': '10-06-2022'}\n",
      "{'_id': ObjectId('66df8dd707960dc3f6f1a6a2'), 'ProductID': '102', 'ProductName': 'Gaming Keyboard', 'Category': 'Electronics', 'Price': '75.49', 'Rating': '4.7', 'ReviewCount': '350', 'Stock': '85', 'Discount': '5%', 'Brand': 'Corsair', 'LaunchDate': '20-11-2021'}\n",
      "{'_id': ObjectId('66df8dd707960dc3f6f1a6a9'), 'ProductID': '109', 'ProductName': 'Smart TV', 'Category': 'Electronics', 'Price': '399.99', 'Rating': '4.7', 'ReviewCount': '150', 'Stock': '25', 'Discount': '15%', 'Brand': 'Samsung', 'LaunchDate': '10-06-2022'}\n"
     ]
    }
   ],
   "source": [
    "d={}\n",
    "d[a]=v\n",
    "res=collection.find(d)\n",
    "for i in res:\n",
    "    print(i)"
   ]
  },
  {
   "cell_type": "code",
   "execution_count": 47,
   "id": "25d9fdb5",
   "metadata": {},
   "outputs": [],
   "source": [
    "prompt = 'To fetchall products above rating 4.5'"
   ]
  },
  {
   "cell_type": "code",
   "execution_count": 46,
   "id": "af6a1835",
   "metadata": {},
   "outputs": [
    {
     "name": "stdout",
     "output_type": "stream",
     "text": [
      "{'_id': ObjectId('66dd49d0767d079d90b22b88'), 'ProductID': '101', 'ProductName': 'Wireless Mouse', 'Category': 'Electronics', 'Price': '25.99', 'Rating': '4.5', 'ReviewCount': '200', 'Stock': '150', 'Discount': '10%', 'Brand': 'Logitech', 'LaunchDate': '15-01-2022'}\n",
      "{'_id': ObjectId('66df01144cd94cbbe0b5d8f1'), 'ProductID': '101', 'ProductName': 'Wireless Mouse', 'Category': 'Electronics', 'Price': '25.99', 'Rating': '4.5', 'ReviewCount': '200', 'Stock': '150', 'Discount': '10%', 'Brand': 'Logitech', 'LaunchDate': '15-01-2022'}\n",
      "{'_id': ObjectId('66df1b678423dcf98577fb75'), 'ProductID': '101', 'ProductName': 'Wireless Mouse', 'Category': 'Electronics', 'Price': '25.99', 'Rating': '4.5', 'ReviewCount': '200', 'Stock': '150', 'Discount': '10%', 'Brand': 'Logitech', 'LaunchDate': '15-01-2022'}\n",
      "{'_id': ObjectId('66df8dd707960dc3f6f1a6a1'), 'ProductID': '101', 'ProductName': 'Wireless Mouse', 'Category': 'Electronics', 'Price': '25.99', 'Rating': '4.5', 'ReviewCount': '200', 'Stock': '150', 'Discount': '10%', 'Brand': 'Logitech', 'LaunchDate': '15-01-2022'}\n"
     ]
    }
   ],
   "source": [
    "query = {\"rating\": {\"$lt\": 4.5}}\n",
    "products = collection.find(query)\n"
   ]
  },
  {
   "cell_type": "code",
   "execution_count": 36,
   "id": "9bb961c2",
   "metadata": {},
   "outputs": [],
   "source": [
    "from pprint import pprint\n",
    "for i in products:\n",
    "    pprint(i)"
   ]
  },
  {
   "cell_type": "code",
   "execution_count": 37,
   "id": "e21d06a7",
   "metadata": {},
   "outputs": [
    {
     "data": {
      "text/plain": [
       "<pymongo.cursor.Cursor at 0x23d02feaa40>"
      ]
     },
     "execution_count": 37,
     "metadata": {},
     "output_type": "execute_result"
    }
   ],
   "source": [
    "products"
   ]
  },
  {
   "cell_type": "markdown",
   "id": "5bd7ae81",
   "metadata": {},
   "source": [
    "# To save the CSV file"
   ]
  },
  {
   "cell_type": "code",
   "execution_count": 30,
   "id": "76237c55",
   "metadata": {},
   "outputs": [
    {
     "name": "stdout",
     "output_type": "stream",
     "text": [
      "Data saved to retrieved_data.csv\n"
     ]
    }
   ],
   "source": [
    "\n",
    "# Step 5: Display or save results\n",
    "df = pd.DataFrame(list(d))\n",
    "df.to_csv('retrieved_data.csv', index=False)\n",
    "print(\"Data saved to retrieved_data.csv\")\n"
   ]
  },
  {
   "cell_type": "code",
   "execution_count": null,
   "id": "26bd0333",
   "metadata": {},
   "outputs": [],
   "source": []
  },
  {
   "cell_type": "code",
   "execution_count": 49,
   "id": "2ead5835",
   "metadata": {},
   "outputs": [],
   "source": []
  },
  {
   "cell_type": "code",
   "execution_count": null,
   "id": "8a256d74",
   "metadata": {},
   "outputs": [],
   "source": []
  },
  {
   "cell_type": "code",
   "execution_count": null,
   "id": "bd960878",
   "metadata": {},
   "outputs": [],
   "source": []
  },
  {
   "cell_type": "code",
   "execution_count": null,
   "id": "9f997108",
   "metadata": {},
   "outputs": [],
   "source": []
  }
 ],
 "metadata": {
  "kernelspec": {
   "display_name": "Python 3 (ipykernel)",
   "language": "python",
   "name": "python3"
  },
  "language_info": {
   "codemirror_mode": {
    "name": "ipython",
    "version": 3
   },
   "file_extension": ".py",
   "mimetype": "text/x-python",
   "name": "python",
   "nbconvert_exporter": "python",
   "pygments_lexer": "ipython3",
   "version": "3.10.14"
  }
 },
 "nbformat": 4,
 "nbformat_minor": 5
}
